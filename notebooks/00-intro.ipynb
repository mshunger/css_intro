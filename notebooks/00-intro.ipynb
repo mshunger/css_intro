{
 "cells": [
  {
   "cell_type": "markdown",
   "id": "4fa2d292-5b71-4113-aced-5d9681bc9a52",
   "metadata": {
    "slideshow": {
     "slide_type": "slide"
    }
   },
   "source": [
    "# Why Python?\n",
    "- giant and active community\n",
    "    - lots of packages\n",
    "    - lots of support\n",
    "    - will be officially supported for a long time\n",
    "- very versatile\n",
    "- works well for natural language processing, machine learning, data science & data mining\n",
    "- it is an object oriented language (we will get to that later)\n",
    "- great Error reporting"
   ]
  },
  {
   "cell_type": "markdown",
   "id": "127df2a1-1fc6-467d-8303-004212466d23",
   "metadata": {
    "slideshow": {
     "slide_type": "slide"
    }
   },
   "source": [
    "# Why Anaconda?\n",
    "- helps with package installation\n",
    "- seperate environments prevent version conflicts\n",
    "- makes projects transferable and sharable (like this on ;) )"
   ]
  },
  {
   "cell_type": "markdown",
   "id": "05888002",
   "metadata": {
    "slideshow": {
     "slide_type": "subslide"
    }
   },
   "source": [
    "# Installing the conda environment\n",
    "1. Download the git repo \n",
    "    - a) either by downloading the folder from [github](https://github.com/mshunger/css_intro/archive/refs/heads/main.zip) and going from there\n",
    "    - b) or by navigating to the folder in the console (e.g. `cd git/css_intro`) and cloning the repo via git (`git clone https://github.com/mshunger/css_intro.git css_intro`)"
   ]
  },
  {
   "cell_type": "markdown",
   "id": "bd4189ad",
   "metadata": {
    "slideshow": {
     "slide_type": "subslide"
    }
   },
   "source": [
    "2. Install via console in the repo folder: `conda env create -f env.yml`\n",
    "    - the file env.yml contains all the information neede to install the environment (packages, name etc.)\n",
    "    - `conda env create` tells conda to create a new environment, `-f env.yml` tells it from which file the environemnt should be created, if you want to give the envrionment a different name, you can specify this by adding `-n YOURNAME` to the command"
   ]
  },
  {
   "cell_type": "markdown",
   "id": "87fedb69-b974-413d-b7f5-b4703bd1b96f",
   "metadata": {
    "slideshow": {
     "slide_type": "subslide"
    }
   },
   "source": [
    "3. activate your environment: `conda activate css_intro`\n",
    "    - now you have access to all the packages installed in the environment"
   ]
  },
  {
   "cell_type": "markdown",
   "id": "7c3166fd-b8c6-4da6-b40f-fd267b82f793",
   "metadata": {
    "slideshow": {
     "slide_type": "subslide"
    }
   },
   "source": [
    "# Test if it worked\n",
    "- if everything worked as intended you should be able to import the packages from the environment here\n",
    "- [ ] try it below"
   ]
  },
  {
   "cell_type": "code",
   "execution_count": 2,
   "id": "40edf238-e42d-4293-8dce-1c40c52da65e",
   "metadata": {},
   "outputs": [],
   "source": [
    "import altair"
   ]
  },
  {
   "cell_type": "markdown",
   "id": "9a21ca59-3b15-4c15-8a60-998e42d7c641",
   "metadata": {
    "slideshow": {
     "slide_type": "slide"
    }
   },
   "source": [
    "# \"my first code\"\n",
    "- python is a fancy calculator\n",
    "    - [ ] try adding: `2+2`\n",
    "- it can display a variety of outputs\n",
    "    - [ ] try printing something: `print('hello world')`"
   ]
  },
  {
   "cell_type": "code",
   "execution_count": 1,
   "id": "ccf61721-8079-4363-827b-2a764bea79a7",
   "metadata": {},
   "outputs": [
    {
     "data": {
      "text/plain": [
       "4"
      ]
     },
     "execution_count": 1,
     "metadata": {},
     "output_type": "execute_result"
    }
   ],
   "source": [
    "2+2"
   ]
  },
  {
   "cell_type": "code",
   "execution_count": 2,
   "id": "151229cf-3694-44b1-9805-c4f3dbc02ccc",
   "metadata": {},
   "outputs": [
    {
     "name": "stdout",
     "output_type": "stream",
     "text": [
      "hello world\n"
     ]
    }
   ],
   "source": [
    "print('hello world')"
   ]
  }
 ],
 "metadata": {
  "celltoolbar": "Slideshow",
  "kernelspec": {
   "display_name": "Python 3 (ipykernel)",
   "language": "python",
   "name": "python3"
  },
  "language_info": {
   "codemirror_mode": {
    "name": "ipython",
    "version": 3
   },
   "file_extension": ".py",
   "mimetype": "text/x-python",
   "name": "python",
   "nbconvert_exporter": "python",
   "pygments_lexer": "ipython3",
   "version": "3.9.15"
  }
 },
 "nbformat": 4,
 "nbformat_minor": 5
}
