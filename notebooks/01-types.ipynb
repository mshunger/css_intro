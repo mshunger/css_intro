{
 "cells": [
  {
   "cell_type": "markdown",
   "id": "0a5ed61f-1f6e-4997-8306-204d17a6f65e",
   "metadata": {},
   "source": [
    "# What are data types?\n",
    "- they define what a variable can and can\\'t do"
   ]
  },
  {
   "cell_type": "markdown",
   "id": "75e367f3-02bf-47db-a5b5-52e453459fd9",
   "metadata": {},
   "source": [
    "## Basic data types:\n",
    "### single values:\n",
    "- string: `str`\n",
    "- integer: `int`\n",
    "- float: `float`\n",
    "- boolean: `bool`\n",
    "\n",
    "### multiple values/variables:\n",
    "- list: `list`\n",
    "- tuple: `tuple`\n",
    "- dictionary: `dict`"
   ]
  },
  {
   "cell_type": "markdown",
   "id": "3b7b15cb-7da6-4953-9583-20adbfad3025",
   "metadata": {},
   "source": [
    "#### Strings\n",
    "- usually contain text\n",
    "- is immutable\n",
    "- can be indexed"
   ]
  },
  {
   "cell_type": "code",
   "execution_count": 4,
   "id": "0cd98cd9-4b80-4883-b80b-4885768425a8",
   "metadata": {},
   "outputs": [
    {
     "name": "stdout",
     "output_type": "stream",
     "text": [
      "this is a string\n"
     ]
    }
   ],
   "source": [
    "string_variable = 'this is a string'\n",
    "print(string_variable) # a wild comment, commenting on a wild built-in function appears!"
   ]
  },
  {
   "cell_type": "code",
   "execution_count": 5,
   "id": "0ed620c6-43a6-4576-a339-edda4fe29710",
   "metadata": {},
   "outputs": [
    {
     "name": "stdout",
     "output_type": "stream",
     "text": [
      "<class 'str'>\n"
     ]
    }
   ],
   "source": [
    "print(type(string_variable))"
   ]
  },
  {
   "cell_type": "markdown",
   "id": "831c9670-fb07-4f73-b173-f892d9f00cd6",
   "metadata": {},
   "source": [
    "#### integer\n",
    "- contains \"whole\" numbers\n",
    "- is immutable\n",
    "- can not be indexed"
   ]
  },
  {
   "cell_type": "code",
   "execution_count": 8,
   "id": "ff233665-aab3-4430-a3e3-75b1bae95454",
   "metadata": {},
   "outputs": [
    {
     "name": "stdout",
     "output_type": "stream",
     "text": [
      "10\n"
     ]
    }
   ],
   "source": [
    "integer_variable = 10\n",
    "print(integer_variable)"
   ]
  },
  {
   "cell_type": "code",
   "execution_count": 9,
   "id": "0872d129-433e-4145-bb2e-8b8994cf81ee",
   "metadata": {},
   "outputs": [
    {
     "name": "stdout",
     "output_type": "stream",
     "text": [
      "<class 'int'>\n"
     ]
    }
   ],
   "source": [
    "print(type(integer_variable))"
   ]
  },
  {
   "cell_type": "markdown",
   "id": "34ea14e0-f092-4829-b140-718cd41113da",
   "metadata": {},
   "source": [
    "#### float\n",
    "- contains \"broken\" numbers\n",
    "- is immutable\n",
    "- can not be indexed"
   ]
  },
  {
   "cell_type": "code",
   "execution_count": 10,
   "id": "af53a216-c337-4e57-a6c1-5d4e07790fd4",
   "metadata": {},
   "outputs": [
    {
     "name": "stdout",
     "output_type": "stream",
     "text": [
      "2.5\n"
     ]
    }
   ],
   "source": [
    "float_variable = 2.5 # mind the dot!\n",
    "print(float_variable)"
   ]
  },
  {
   "cell_type": "code",
   "execution_count": 11,
   "id": "d643adab-1f5c-4c5b-933a-cee4a3193594",
   "metadata": {},
   "outputs": [
    {
     "name": "stdout",
     "output_type": "stream",
     "text": [
      "<class 'float'>\n"
     ]
    }
   ],
   "source": [
    "print(type(float_variable))"
   ]
  },
  {
   "cell_type": "markdown",
   "id": "c3846399-5ebb-4b35-a87b-46bf25999f1e",
   "metadata": {},
   "source": [
    "#### boolean\n",
    "- contains a \"truth value\"\n",
    "- only has two possible expressions\n",
    "- is immutable\n",
    "- can not be indexed"
   ]
  },
  {
   "cell_type": "code",
   "execution_count": 13,
   "id": "5df12c12-fd38-4c09-814e-5402a4e10e73",
   "metadata": {},
   "outputs": [
    {
     "name": "stdout",
     "output_type": "stream",
     "text": [
      "True\n"
     ]
    }
   ],
   "source": [
    "boolean_variable = True # or False!\n",
    "print(boolean_variable)"
   ]
  },
  {
   "cell_type": "code",
   "execution_count": 14,
   "id": "e6589c9e-3cc8-4a8f-b78a-c7f5c0387822",
   "metadata": {},
   "outputs": [
    {
     "name": "stdout",
     "output_type": "stream",
     "text": [
      "<class 'bool'>\n"
     ]
    }
   ],
   "source": [
    "print(type(boolean_variable))"
   ]
  },
  {
   "cell_type": "markdown",
   "id": "83e67998-7595-4f70-9940-253129e90222",
   "metadata": {},
   "source": [
    "#### relation of str, int, float and bool\n",
    "- some types can directly be transferred to one another, some only in specific circumstances"
   ]
  },
  {
   "cell_type": "code",
   "execution_count": 16,
   "id": "79777e1c-3450-4b92-ba6b-11e072891bf2",
   "metadata": {},
   "outputs": [
    {
     "name": "stdout",
     "output_type": "stream",
     "text": [
      "10\n"
     ]
    }
   ],
   "source": [
    "print(str(integer_variable)) # try it with the other types!"
   ]
  },
  {
   "cell_type": "code",
   "execution_count": 17,
   "id": "a5bbcde1-04a1-42b1-b20f-a5c0c35019e2",
   "metadata": {},
   "outputs": [
    {
     "name": "stdout",
     "output_type": "stream",
     "text": [
      "10.0\n"
     ]
    }
   ],
   "source": [
    "print(float(integer_variable))"
   ]
  },
  {
   "cell_type": "code",
   "execution_count": 19,
   "id": "cdeac025-174d-4d82-9bb5-763b07d37008",
   "metadata": {},
   "outputs": [
    {
     "name": "stdout",
     "output_type": "stream",
     "text": [
      "1\n"
     ]
    }
   ],
   "source": [
    "print(int(boolean_variable)) # what did you expect, what do you expect from str(boolean_variable)?"
   ]
  },
  {
   "cell_type": "markdown",
   "id": "e1985067-1cfd-439b-a9d9-7c4aec0df140",
   "metadata": {},
   "source": [
    "### brackets, brackets, brackets: holding multiple values"
   ]
  },
  {
   "cell_type": "markdown",
   "id": "4cdc907b-2475-4f19-ad76-8909f97f4e1a",
   "metadata": {},
   "source": [
    "#### list\n",
    "- is mutable\n",
    "- can be indexed\n",
    "- lists of list are a thing!"
   ]
  },
  {
   "cell_type": "code",
   "execution_count": 32,
   "id": "69c4dc73-53f7-4c25-bd6f-7a1ca3eb7210",
   "metadata": {},
   "outputs": [
    {
     "name": "stdout",
     "output_type": "stream",
     "text": [
      "['this is a string', 10, 2.5, True]\n"
     ]
    }
   ],
   "source": [
    "list_variable = ['this is a string', 10, 2.5, True]\n",
    "print(list_variable)"
   ]
  },
  {
   "cell_type": "code",
   "execution_count": 24,
   "id": "552a2f45-c4fc-43c9-b69c-af094d4def67",
   "metadata": {},
   "outputs": [
    {
     "name": "stdout",
     "output_type": "stream",
     "text": [
      "['this is a string', 10, 2.5, True]\n"
     ]
    }
   ],
   "source": [
    "list_variable2 = [string_variable, integer_variable, float_variable, boolean_variable]\n",
    "print(list_variable2)"
   ]
  },
  {
   "cell_type": "markdown",
   "id": "552cf447-79b0-4ca3-8121-c203432c4586",
   "metadata": {},
   "source": [
    "#### tuple\n",
    "- is immutable\n",
    "- can be indexed\n",
    "- tuples of tuples are also a thing ;)"
   ]
  },
  {
   "cell_type": "code",
   "execution_count": 25,
   "id": "56c6ef35-56e6-4809-83cb-358e470eb594",
   "metadata": {},
   "outputs": [],
   "source": [
    "tuple_variable = (string_variable, integer_variable, float_variable, boolean_variable)"
   ]
  },
  {
   "cell_type": "code",
   "execution_count": 26,
   "id": "af20de1c-3045-4b13-b853-4e704ce4d5d2",
   "metadata": {},
   "outputs": [
    {
     "name": "stdout",
     "output_type": "stream",
     "text": [
      "('this is a string', 10, 2.5, True)\n"
     ]
    }
   ],
   "source": [
    "print(tuple_variable)"
   ]
  },
  {
   "cell_type": "markdown",
   "id": "45ba49a1-6e80-48a5-acb2-eb974eba6488",
   "metadata": {},
   "source": [
    "#### Excursion: indexing and mutation"
   ]
  },
  {
   "cell_type": "code",
   "execution_count": 27,
   "id": "f8a171fc-15d3-4609-85a4-192af8318cfc",
   "metadata": {},
   "outputs": [
    {
     "name": "stdout",
     "output_type": "stream",
     "text": [
      "this is a string\n"
     ]
    }
   ],
   "source": [
    "# we can access parts of variables if they can be indexed, e.g. the first item in a list or parts of a sentence in a string!\n",
    "print(list_variable[0]) # python uses \"zero based indexing\", that means we start at 0!"
   ]
  },
  {
   "cell_type": "code",
   "execution_count": 29,
   "id": "2a535e42-10b9-48bb-b6b5-940aed708b45",
   "metadata": {},
   "outputs": [
    {
     "name": "stdout",
     "output_type": "stream",
     "text": [
      "this \n"
     ]
    }
   ],
   "source": [
    "print(string_variable[0:5]) # as we index from the first item, we could also write [:5]"
   ]
  },
  {
   "cell_type": "code",
   "execution_count": 30,
   "id": "87191737-c91b-42ea-8d89-9be3e0adfca2",
   "metadata": {
    "collapsed": true,
    "jupyter": {
     "outputs_hidden": true
    },
    "tags": []
   },
   "outputs": [
    {
     "name": "stdout",
     "output_type": "stream",
     "text": [
      "string\n"
     ]
    }
   ],
   "source": [
    "# what does this do:\n",
    "print(string_variable[-6:])"
   ]
  },
  {
   "cell_type": "code",
   "execution_count": 33,
   "id": "45289ab1-1f6c-4f71-912e-c0f9b2206f1c",
   "metadata": {},
   "outputs": [
    {
     "name": "stdout",
     "output_type": "stream",
     "text": [
      "['this is a new string', 10, 2.5, True]\n"
     ]
    }
   ],
   "source": [
    "# we can replace parts of mutable variables or add to them\n",
    "list_variable[0] = 'this is a new string'\n",
    "print(list_variable)"
   ]
  },
  {
   "cell_type": "markdown",
   "id": "ee3c46eb-77cf-4516-a5f7-9e9d34e2d2d0",
   "metadata": {},
   "source": [
    "#### dictionary\n",
    "- key - value pairs\n",
    "- is mutable\n",
    "- can be indexed, but it works differently"
   ]
  },
  {
   "cell_type": "code",
   "execution_count": 36,
   "id": "fc9e160d-66c8-4808-9870-11cde096fb56",
   "metadata": {},
   "outputs": [
    {
     "name": "stdout",
     "output_type": "stream",
     "text": [
      "{'key': 'value', 'key2': 10, 'key3': 2.5, 'key4': [1, 2, 3]}\n"
     ]
    }
   ],
   "source": [
    "dictionary_variable = {'key':'value', 'key2':10, 'key3':2.5, 'key4':[1,2,3]}\n",
    "print(dictionary_variable)"
   ]
  },
  {
   "cell_type": "code",
   "execution_count": 38,
   "id": "9dbff71a-a9f6-4ce7-bb5b-33c92ab7d0ab",
   "metadata": {},
   "outputs": [
    {
     "name": "stdout",
     "output_type": "stream",
     "text": [
      "[1, 2, 3]\n"
     ]
    }
   ],
   "source": [
    "print(dictionary_variable['key4'])"
   ]
  },
  {
   "cell_type": "code",
   "execution_count": 45,
   "id": "10852459-4baa-44b4-b137-0b8d010f0911",
   "metadata": {},
   "outputs": [
    {
     "name": "stdout",
     "output_type": "stream",
     "text": [
      "dict_keys(['key', 'key2', 'key3', 'key4'])\n"
     ]
    }
   ],
   "source": [
    "print(dictionary_variable.keys()) # built in methods!"
   ]
  },
  {
   "cell_type": "code",
   "execution_count": 46,
   "id": "c785c2f9-f190-49cb-9c1d-f809c1bf1880",
   "metadata": {},
   "outputs": [
    {
     "name": "stdout",
     "output_type": "stream",
     "text": [
      "dict_values(['value', 10, 2.5, [1, 2, 3]])\n"
     ]
    }
   ],
   "source": [
    "print(dictionary_variable.values())"
   ]
  },
  {
   "cell_type": "markdown",
   "id": "06ea6b13-42a4-4941-acfd-25ca66d14846",
   "metadata": {},
   "source": [
    "## Test\n",
    "- [ ] what happens if we execute this: `int('1')`\n",
    "    - [ ] assign the result to a variable and check its type\n",
    "- [ ] what could you do to get the third item from the following list `['a', 'b', 'c', 'd']` ?\n",
    "- [ ] execute something that throws an error and describe the error. Does the error description help you?"
   ]
  }
 ],
 "metadata": {
  "kernelspec": {
   "display_name": "Python 3 (ipykernel)",
   "language": "python",
   "name": "python3"
  },
  "language_info": {
   "codemirror_mode": {
    "name": "ipython",
    "version": 3
   },
   "file_extension": ".py",
   "mimetype": "text/x-python",
   "name": "python",
   "nbconvert_exporter": "python",
   "pygments_lexer": "ipython3",
   "version": "3.9.15"
  }
 },
 "nbformat": 4,
 "nbformat_minor": 5
}
