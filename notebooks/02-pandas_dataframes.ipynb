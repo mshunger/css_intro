{
 "cells": [
  {
   "cell_type": "markdown",
   "id": "4b7f1141-bea6-4765-bfd4-fff7a596b8fd",
   "metadata": {},
   "source": [
    "# pandas and DataFrames"
   ]
  },
  {
   "cell_type": "markdown",
   "id": "09c51d42-d8a9-430a-a8c8-d560e7c424a3",
   "metadata": {},
   "source": [
    "#### importing packages\n",
    "- to actually use modules that are not part of base python (like pandas) we have to import them first!\n",
    "- we can either import a whole package: `import pandas`\n",
    "- or parts of a package: `from pandas import DataFrame`\n",
    "- we can also rename imports to make the usage quicker: `import pandas as pd` <- this is the typical import for pandas\n",
    "    - the same ist true for parts of a package: `from pandas import DataFrame as DF` <- this particular import is rather untypical\n",
    "    \n",
    "- [ ] import the pandas package now!"
   ]
  },
  {
   "cell_type": "code",
   "execution_count": 1,
   "id": "4888af05-8c88-4497-aa69-36876ff3552b",
   "metadata": {},
   "outputs": [],
   "source": [
    "# your input goes before the comment"
   ]
  },
  {
   "cell_type": "markdown",
   "id": "ddd0bf4c-731e-4d9c-9959-b1992a26c554",
   "metadata": {},
   "source": [
    "#### pandas DataFrames (DF)\n",
    "- DF are very similar to the R version\n",
    "- the are also very similar to typical spreadsheets (think excel) but can also be used in a similar capacity to SQL tables\n",
    "    - they are made up of rows and columns\n",
    "- DF can be constructed from lists of lists, dictionaries, tuples, ..."
   ]
  },
  {
   "cell_type": "code",
   "execution_count": 4,
   "id": "8b68f226-e5ad-4357-9bcf-59cd02ffcda2",
   "metadata": {},
   "outputs": [],
   "source": [
    "# from a dictionary\n",
    "df_dict = {\n",
    "    'row_1':[1,2,3,4,5],\n",
    "    'row_2':['a', 'b', 'c', 'd', 'e'],\n",
    "    'row_3':[1,.5,.25,.125,.0625]\n",
    "}"
   ]
  },
  {
   "cell_type": "code",
   "execution_count": 5,
   "id": "713c3ac7-241a-42b0-9f28-14b614fc91ef",
   "metadata": {},
   "outputs": [],
   "source": [
    "df = pd.DataFrame(df_dict)"
   ]
  },
  {
   "cell_type": "code",
   "execution_count": 7,
   "id": "9f9dab48-21b6-47ee-a430-118d201323ac",
   "metadata": {},
   "outputs": [
    {
     "name": "stdout",
     "output_type": "stream",
     "text": [
      "   row_1 row_2   row_3\n",
      "0      1     a  1.0000\n",
      "1      2     b  0.5000\n",
      "2      3     c  0.2500\n",
      "3      4     d  0.1250\n",
      "4      5     e  0.0625\n"
     ]
    }
   ],
   "source": [
    "print(df) # try it without the print statement"
   ]
  },
  {
   "cell_type": "markdown",
   "id": "34261d3e-7fbf-422c-9530-d8dab1f9e70d",
   "metadata": {},
   "source": [
    "#### try some useful methods:\n",
    "- [ ] `df.head(2)`\n",
    "- [ ] `df.tail(2)`\n",
    "- [ ] `df.dtypes`\n",
    "- [ ] `df.describe()`"
   ]
  },
  {
   "cell_type": "code",
   "execution_count": 11,
   "id": "2896a0eb-301a-4afc-b804-1034967ee377",
   "metadata": {},
   "outputs": [],
   "source": [
    "# save your DF to your machine:\n",
    "df.to_csv('filename.csv')"
   ]
  },
  {
   "cell_type": "code",
   "execution_count": 16,
   "id": "706e759b-8400-4d65-845b-a55d7a68c5e9",
   "metadata": {},
   "outputs": [],
   "source": [
    "# load it back in:\n",
    "df = pd.read_csv('filename.csv', index_col=0) # try it without the index_col argument!"
   ]
  },
  {
   "cell_type": "code",
   "execution_count": 17,
   "id": "9a4d3ed9-3084-42eb-800e-fbb1b6395959",
   "metadata": {},
   "outputs": [
    {
     "name": "stdout",
     "output_type": "stream",
     "text": [
      "   row_1 row_2   row_3\n",
      "0      1     a  1.0000\n",
      "1      2     b  0.5000\n",
      "2      3     c  0.2500\n",
      "3      4     d  0.1250\n",
      "4      5     e  0.0625\n"
     ]
    }
   ],
   "source": [
    "print(df)"
   ]
  },
  {
   "cell_type": "markdown",
   "id": "27481579-cc81-4aa4-a006-335d22922acb",
   "metadata": {},
   "source": [
    "#### selecting data from a DF\n",
    "- we can select columns by calling their name\n",
    "- we can \"slice\" a DF by specifying rows AND columns"
   ]
  },
  {
   "cell_type": "code",
   "execution_count": 21,
   "id": "3c49604b-8cd0-470b-bb04-8e55ced03ba4",
   "metadata": {},
   "outputs": [
    {
     "name": "stdout",
     "output_type": "stream",
     "text": [
      "0    1\n",
      "1    2\n",
      "2    3\n",
      "3    4\n",
      "4    5\n",
      "Name: row_1, dtype: int64\n"
     ]
    }
   ],
   "source": [
    "# by columns:\n",
    "print(df['row_1'])"
   ]
  },
  {
   "cell_type": "markdown",
   "id": "198158d6-1adc-46d3-8b81-455217d3b166",
   "metadata": {},
   "source": [
    "- [ ] assign the result to variable and check its type!\n",
    "- [ ] try selecting multiple rows!"
   ]
  },
  {
   "cell_type": "code",
   "execution_count": 22,
   "id": "d7540c00-54f7-4fe4-81be-f22a7f9849b4",
   "metadata": {},
   "outputs": [
    {
     "name": "stdout",
     "output_type": "stream",
     "text": [
      "0    1\n",
      "1    2\n",
      "2    3\n",
      "3    4\n",
      "4    5\n",
      "Name: row_1, dtype: int64\n"
     ]
    }
   ],
   "source": [
    "print(df.row_1) # what if the column was named \"row 1\"?"
   ]
  },
  {
   "cell_type": "code",
   "execution_count": 25,
   "id": "6ec65d5f-4989-41bf-95a3-e2a14c8e4aa1",
   "metadata": {},
   "outputs": [
    {
     "name": "stdout",
     "output_type": "stream",
     "text": [
      "c\n"
     ]
    }
   ],
   "source": [
    "# slicing by using iloc -> index location:\n",
    "print(df.iloc[2,1]) # row, column"
   ]
  },
  {
   "cell_type": "code",
   "execution_count": 28,
   "id": "cf71de13-7320-43f3-b32b-a77d56b2d013",
   "metadata": {},
   "outputs": [
    {
     "name": "stdout",
     "output_type": "stream",
     "text": [
      "  row_2   row_3\n",
      "3     d  0.1250\n",
      "4     e  0.0625\n"
     ]
    }
   ],
   "source": [
    "# slicing parts of the DF:\n",
    "print(df.iloc[3:5,1:3]) # what do you expect?"
   ]
  },
  {
   "cell_type": "markdown",
   "id": "b2d0d065-f172-4837-9864-586ab926d58a",
   "metadata": {},
   "source": [
    "#### operations on a DF\n",
    "- we can inspect and manipulate DF in multiple ways:\n",
    "- perform basic transformations by row or column\n",
    "- create new columns based on other columns\n",
    "- add new columns\n",
    "- combine DF\n",
    "- ..."
   ]
  },
  {
   "cell_type": "code",
   "execution_count": 30,
   "id": "0b9e6ecf-6dab-4f40-b208-723e218695f3",
   "metadata": {},
   "outputs": [
    {
     "name": "stdout",
     "output_type": "stream",
     "text": [
      "3.0\n"
     ]
    }
   ],
   "source": [
    "# get the mean of a column:\n",
    "print(df['row_1'].mean())"
   ]
  },
  {
   "cell_type": "code",
   "execution_count": 33,
   "id": "17414c74-6d5d-4588-bea1-1363218be6ae",
   "metadata": {},
   "outputs": [],
   "source": [
    "# create a new column by multiplication:\n",
    "df['new_column'] = df['row_3'] * 2\n",
    "# add two_columns:\n",
    "df['add_column'] = df['row_1'] + df['row_3']"
   ]
  },
  {
   "cell_type": "code",
   "execution_count": 34,
   "id": "f376fbe8-8348-42db-97a5-49515d131477",
   "metadata": {},
   "outputs": [
    {
     "name": "stdout",
     "output_type": "stream",
     "text": [
      "   row_1 row_2   row_3  new_column  add_column\n",
      "0      1     a  1.0000       2.000      2.0000\n",
      "1      2     b  0.5000       1.000      2.5000\n",
      "2      3     c  0.2500       0.500      3.2500\n",
      "3      4     d  0.1250       0.250      4.1250\n",
      "4      5     e  0.0625       0.125      5.0625\n"
     ]
    }
   ],
   "source": [
    "print(df)"
   ]
  }
 ],
 "metadata": {
  "kernelspec": {
   "display_name": "Python 3 (ipykernel)",
   "language": "python",
   "name": "python3"
  },
  "language_info": {
   "codemirror_mode": {
    "name": "ipython",
    "version": 3
   },
   "file_extension": ".py",
   "mimetype": "text/x-python",
   "name": "python",
   "nbconvert_exporter": "python",
   "pygments_lexer": "ipython3",
   "version": "3.9.15"
  }
 },
 "nbformat": 4,
 "nbformat_minor": 5
}
