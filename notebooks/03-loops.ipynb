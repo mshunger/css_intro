{
 "cells": [
  {
   "cell_type": "markdown",
   "id": "06101f19",
   "metadata": {
    "slideshow": {
     "slide_type": "slide"
    }
   },
   "source": [
    "# Looping over sequences\n",
    "- we often want to do the same things but for different values\n",
    "    - for-loop\n",
    "- or we want to repeat code for as long as a condition holds\n",
    "    - while-loop"
   ]
  },
  {
   "cell_type": "markdown",
   "id": "973d943e",
   "metadata": {
    "slideshow": {
     "slide_type": "slide"
    }
   },
   "source": [
    "## for-loops\n",
    "- for every part of an \"iterable\", do stuff\n",
    "- iterables are variables or objects that hold a number of values that we can go over *iteratively*\n",
    "- for loops consist of \n",
    "    - the *for* keyword\n",
    "    - an *iterator* (named however we like)\n",
    "    - an *iterable* that we want to go over\n",
    "    - an indented *body* where the magic happens for every part we're going over    "
   ]
  },
  {
   "cell_type": "markdown",
   "id": "f98ec485",
   "metadata": {
    "slideshow": {
     "slide_type": "subslide"
    }
   },
   "source": [
    "- [ ] give a few examples of iterables\n",
    "- [ ] are strings iterable?"
   ]
  },
  {
   "cell_type": "code",
   "execution_count": 2,
   "id": "d9aff04b",
   "metadata": {
    "slideshow": {
     "slide_type": "subslide"
    }
   },
   "outputs": [],
   "source": [
    "iterable = [1, 2, 3, 4, 5]"
   ]
  },
  {
   "cell_type": "code",
   "execution_count": 3,
   "id": "d65cb9da",
   "metadata": {
    "collapsed": true,
    "slideshow": {
     "slide_type": "-"
    }
   },
   "outputs": [
    {
     "name": "stdout",
     "output_type": "stream",
     "text": [
      "1\n",
      "4\n",
      "9\n",
      "16\n",
      "25\n"
     ]
    }
   ],
   "source": [
    "for iterator in iterable: # we could also call the iterator x, it is often called i (short for iterator)\n",
    "    print(iterator ** 2)  # what could ** mean? "
   ]
  },
  {
   "cell_type": "code",
   "execution_count": 11,
   "id": "79530610",
   "metadata": {
    "collapsed": true,
    "slideshow": {
     "slide_type": "subslide"
    }
   },
   "outputs": [
    {
     "name": "stdout",
     "output_type": "stream",
     "text": [
      "1 frog\n",
      "2 apples\n",
      "3 tables\n",
      "4 friends\n",
      "5 guys\n"
     ]
    }
   ],
   "source": [
    "# we can also have multiple iterators:\n",
    "dictionary = {'1':'frog', '2':'apples', '3':'tables', '4':'friends', '5':'guys'}\n",
    "\n",
    "for i,j in dictionary.items(): # what does this method do?\n",
    "    i = str(i)\n",
    "    combine = i + ' ' + j\n",
    "    print(combine)"
   ]
  },
  {
   "cell_type": "markdown",
   "id": "18def1cd",
   "metadata": {
    "slideshow": {
     "slide_type": "slide"
    }
   },
   "source": [
    "## while-loops\n",
    "- repeat code *while* a condition holds true\n",
    "- a while loop consists of\n",
    "    - the *while* keyword\n",
    "    - a *condition*\n",
    "    - a *body* where the magic happens\n",
    "- [ ] when could this be useful?"
   ]
  },
  {
   "cell_type": "code",
   "execution_count": 13,
   "id": "5466a02c",
   "metadata": {
    "collapsed": true,
    "slideshow": {
     "slide_type": "subslide"
    }
   },
   "outputs": [
    {
     "name": "stdout",
     "output_type": "stream",
     "text": [
      "0\n",
      "1\n",
      "2\n",
      "3\n",
      "4\n"
     ]
    }
   ],
   "source": [
    "variable = 0\n",
    "while variable < 5:\n",
    "    print(variable)\n",
    "    variable += 1 # what does this do?"
   ]
  },
  {
   "cell_type": "code",
   "execution_count": null,
   "id": "69fd0a93",
   "metadata": {
    "slideshow": {
     "slide_type": "subslide"
    }
   },
   "outputs": [],
   "source": [
    "### do not run! ###\n",
    "\n",
    "# what would the following while-loop do?\n",
    "\n",
    "# while True:\n",
    "#     print('AAAAAAAAAH!')\n",
    "\n",
    "### do not run! ###"
   ]
  },
  {
   "cell_type": "markdown",
   "id": "99248553",
   "metadata": {
    "slideshow": {
     "slide_type": "slide"
    }
   },
   "source": [
    "#### Test\n",
    "- [ ] construct a for-loop that adds all the numbers from 1 to 10\n",
    "    - the `range()` function might be helpful\n",
    "- [ ] construct a while-loop with a boolean variable set to true, that gets changed to False in the body, breaking the loop"
   ]
  }
 ],
 "metadata": {
  "celltoolbar": "Slideshow",
  "kernelspec": {
   "display_name": "Python 3 (ipykernel)",
   "language": "python",
   "name": "python3"
  },
  "language_info": {
   "codemirror_mode": {
    "name": "ipython",
    "version": 3
   },
   "file_extension": ".py",
   "mimetype": "text/x-python",
   "name": "python",
   "nbconvert_exporter": "python",
   "pygments_lexer": "ipython3",
   "version": "3.9.15"
  }
 },
 "nbformat": 4,
 "nbformat_minor": 5
}
