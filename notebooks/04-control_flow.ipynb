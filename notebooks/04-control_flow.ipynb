{
 "cells": [
  {
   "cell_type": "markdown",
   "id": "532f3aaa",
   "metadata": {
    "slideshow": {
     "slide_type": "slide"
    }
   },
   "source": [
    "# what if we had more conditions?\n",
    "- we use the `if`, `else` and `elif` keywords to \"guide\" our code"
   ]
  },
  {
   "cell_type": "markdown",
   "id": "f89cff1f",
   "metadata": {
    "slideshow": {
     "slide_type": "slide"
    }
   },
   "source": [
    "#### the \"if\" keyword\n",
    "- *if* a condition is satisfied, execute the body"
   ]
  },
  {
   "cell_type": "code",
   "execution_count": 2,
   "id": "d0660ead",
   "metadata": {
    "slideshow": {
     "slide_type": "-"
    }
   },
   "outputs": [
    {
     "name": "stdout",
     "output_type": "stream",
     "text": [
      "1 + 1 = 2\n"
     ]
    }
   ],
   "source": [
    "# the if keyword:\n",
    "a = 1\n",
    "b = 2\n",
    "if a + a == b: # what does the double \"=\" do?\n",
    "    print(f'{a} + {a} = {b}') # what is this \"f-string\" doing?"
   ]
  },
  {
   "cell_type": "markdown",
   "id": "cac78e3c",
   "metadata": {
    "slideshow": {
     "slide_type": "slide"
    }
   },
   "source": [
    "#### the \"else\" keyword\n",
    "- if the condition is not satisfied, the body of the if statement does not get executed\n",
    "- in this case we might want to execute something *else*"
   ]
  },
  {
   "cell_type": "code",
   "execution_count": 3,
   "id": "8f239b4f",
   "metadata": {},
   "outputs": [
    {
     "name": "stdout",
     "output_type": "stream",
     "text": [
      "2 + 2 != 2\n"
     ]
    }
   ],
   "source": [
    "a = 2\n",
    "b = 2\n",
    "if a + a == b:\n",
    "    print(f'{a} + {a} = {b}')\n",
    "else:\n",
    "    print(f'{a} + {a} != {b}')"
   ]
  },
  {
   "cell_type": "markdown",
   "id": "d78ec344",
   "metadata": {
    "slideshow": {
     "slide_type": "slide"
    }
   },
   "source": [
    "#### the \"elif\" keyword\n",
    "- if the main condition is not satisfied, we might want to check a second condition before doing whatever else\n",
    "- --> *el*se *if* --> *elif*"
   ]
  },
  {
   "cell_type": "code",
   "execution_count": 5,
   "id": "cb21c581",
   "metadata": {},
   "outputs": [
    {
     "name": "stdout",
     "output_type": "stream",
     "text": [
      "2 + 2 = 2 * 2\n"
     ]
    }
   ],
   "source": [
    "a = 2\n",
    "b = 2\n",
    "if a + a == b:\n",
    "    print(f'{a} + {a} = {b}')\n",
    "elif a + a == b*2:\n",
    "    print(f'{a} + {a} = {b} * 2')\n",
    "else:\n",
    "    print(f'{a} + {a} != {b}')"
   ]
  },
  {
   "cell_type": "markdown",
   "id": "7ff68750",
   "metadata": {},
   "source": [
    "- [ ] try adding more elif statements!"
   ]
  },
  {
   "cell_type": "markdown",
   "id": "7802e8e9",
   "metadata": {
    "slideshow": {
     "slide_type": "slide"
    }
   },
   "source": [
    "## Test\n",
    "- [ ] construct a while-loop with a variable set to True that gets set to False under a condition\n",
    "- [ ] construct a for-loop"
   ]
  },
  {
   "cell_type": "code",
   "execution_count": null,
   "id": "5a92f80d",
   "metadata": {},
   "outputs": [],
   "source": []
  }
 ],
 "metadata": {
  "celltoolbar": "Slideshow",
  "kernelspec": {
   "display_name": "Python 3 (ipykernel)",
   "language": "python",
   "name": "python3"
  },
  "language_info": {
   "codemirror_mode": {
    "name": "ipython",
    "version": 3
   },
   "file_extension": ".py",
   "mimetype": "text/x-python",
   "name": "python",
   "nbconvert_exporter": "python",
   "pygments_lexer": "ipython3",
   "version": "3.9.15"
  }
 },
 "nbformat": 4,
 "nbformat_minor": 5
}
