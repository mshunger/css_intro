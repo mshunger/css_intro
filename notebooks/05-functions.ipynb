{
 "cells": [
  {
   "cell_type": "markdown",
   "id": "106e51d5",
   "metadata": {
    "slideshow": {
     "slide_type": "slide"
    }
   },
   "source": [
    "# Functions - built in and custom\n",
    "- we can use a host of built in functions from base python and from additional packages\n",
    "- some built in functions we already used:\n",
    "    - `print()`, `type()`\n",
    "    - `str()`, `int()`, `float()`\n",
    "- some functions from additional packages:\n",
    "    - `pd.DataFrame()`, `pd.read_csv()`"
   ]
  },
  {
   "cell_type": "markdown",
   "id": "5b381971",
   "metadata": {
    "slideshow": {
     "slide_type": "slide"
    }
   },
   "source": [
    "#### what are functions made of?\n",
    "- usually a call to the function\n",
    "- input(s)\n",
    "    - functions don't necessarily need inputs\n",
    "    - functions can have more than one inputs\n",
    "    - inputs can be required and optional (e.g. in `pd.read_csv('filename.csv', index_col=0)` the filename is required, the index_col argument is optional)"
   ]
  },
  {
   "cell_type": "markdown",
   "id": "5a19b5ff",
   "metadata": {
    "slideshow": {
     "slide_type": "slide"
    }
   },
   "source": [
    "#### Excursion: general built-in functions"
   ]
  },
  {
   "cell_type": "code",
   "execution_count": 3,
   "id": "1699484d",
   "metadata": {
    "slideshow": {
     "slide_type": "subslide"
    }
   },
   "outputs": [],
   "source": [
    "# the random module\n",
    "import random as rand\n",
    "ex_list = ['first', 'second', 'third']"
   ]
  },
  {
   "cell_type": "code",
   "execution_count": 10,
   "id": "2c616a45",
   "metadata": {},
   "outputs": [],
   "source": [
    "a = rand.random() # produces a float between 0 & 1 (inclusive)\n",
    "b = rand.randint(0, 10) # produces an integer between the first and second input (inclusive)\n",
    "c = rand.choice(ex_list) # what could this do?\n",
    "# there are a lot more functions in this package, if you want to know more: read the docs (rtd)!"
   ]
  },
  {
   "cell_type": "code",
   "execution_count": 11,
   "id": "88556420",
   "metadata": {},
   "outputs": [
    {
     "name": "stdout",
     "output_type": "stream",
     "text": [
      "0.32387655436980545 0 first\n"
     ]
    }
   ],
   "source": [
    "print(a, b, c)"
   ]
  },
  {
   "cell_type": "code",
   "execution_count": 13,
   "id": "5476296f",
   "metadata": {
    "slideshow": {
     "slide_type": "subslide"
    }
   },
   "outputs": [],
   "source": [
    "# the time module\n",
    "import time"
   ]
  },
  {
   "cell_type": "code",
   "execution_count": 14,
   "id": "9a6476ac",
   "metadata": {},
   "outputs": [],
   "source": [
    "start = time.time() # records the time at the moment of execution\n",
    "time.sleep(5) # takes input seconds, what could this be useful for?\n",
    "stop = time.time()"
   ]
  },
  {
   "cell_type": "code",
   "execution_count": 16,
   "id": "9c2de25e",
   "metadata": {},
   "outputs": [
    {
     "name": "stdout",
     "output_type": "stream",
     "text": [
      "5.005200147628784\n"
     ]
    }
   ],
   "source": [
    "print(stop - start) # what could this be useful for?"
   ]
  },
  {
   "cell_type": "code",
   "execution_count": 20,
   "id": "a32294ec",
   "metadata": {
    "slideshow": {
     "slide_type": "subslide"
    }
   },
   "outputs": [
    {
     "name": "stdout",
     "output_type": "stream",
     "text": [
      "print\n",
      "print\n"
     ]
    }
   ],
   "source": [
    "# the input function\n",
    "inp = input() # what does the optional prompt input do?\n",
    "print(inp)"
   ]
  },
  {
   "cell_type": "code",
   "execution_count": 21,
   "id": "61edeb61",
   "metadata": {},
   "outputs": [
    {
     "name": "stdout",
     "output_type": "stream",
     "text": [
      "3\n"
     ]
    }
   ],
   "source": [
    "# the len function\n",
    "print(len(ex_list))"
   ]
  },
  {
   "cell_type": "code",
   "execution_count": 23,
   "id": "12e8e14f",
   "metadata": {},
   "outputs": [
    {
     "name": "stdout",
     "output_type": "stream",
     "text": [
      "20 0 8\n"
     ]
    }
   ],
   "source": [
    "# summary functions\n",
    "int_list = range(0,10,2)\n",
    "print(\n",
    "    sum(int_list),\n",
    "    min(int_list),\n",
    "    max(int_list)\n",
    ")"
   ]
  },
  {
   "cell_type": "markdown",
   "id": "da9eab64",
   "metadata": {
    "slideshow": {
     "slide_type": "slide"
    }
   },
   "source": [
    "#### Building your own functions\n",
    "- we start building our function with the keyowrd *def* for define\n",
    "- we give the function a name and define its inputs\n",
    "    - required inputs come first, are named and do not have default inputs\n",
    "    - optional inputs follow, are named and have default inputs `optional_input='optional'\n",
    "- the body uses the inputs and exceutes code\n",
    "- if we want our function to give us something back (this does not have to be the case), we end with a *return* statement"
   ]
  },
  {
   "cell_type": "code",
   "execution_count": 24,
   "id": "7834fbad",
   "metadata": {
    "slideshow": {
     "slide_type": "subslide"
    }
   },
   "outputs": [],
   "source": [
    "# my first function\n",
    "def hello_world():\n",
    "    print('hello world!')"
   ]
  },
  {
   "cell_type": "code",
   "execution_count": 25,
   "id": "01e7e6ab",
   "metadata": {},
   "outputs": [
    {
     "name": "stdout",
     "output_type": "stream",
     "text": [
      "hello world!\n"
     ]
    }
   ],
   "source": [
    "hello_world()"
   ]
  },
  {
   "cell_type": "code",
   "execution_count": 26,
   "id": "e526571a",
   "metadata": {
    "slideshow": {
     "slide_type": "subslide"
    }
   },
   "outputs": [],
   "source": [
    "# with inputs\n",
    "def hello_anything(anything, exclamation=True):\n",
    "    if exclamation == True:\n",
    "        combined = 'hello ' + anything + '!'\n",
    "    else:\n",
    "        combined = 'hello' + anything\n",
    "        \n",
    "    print(combined)"
   ]
  },
  {
   "cell_type": "code",
   "execution_count": 28,
   "id": "3962e027",
   "metadata": {},
   "outputs": [
    {
     "name": "stdout",
     "output_type": "stream",
     "text": [
      "hello world!\n"
     ]
    }
   ],
   "source": [
    "hello_anything('world') # try it without an input or with changing the exclamation input!"
   ]
  },
  {
   "cell_type": "code",
   "execution_count": 32,
   "id": "0ed3a052",
   "metadata": {
    "slideshow": {
     "slide_type": "subslide"
    }
   },
   "outputs": [],
   "source": [
    "# with return statement\n",
    "def hello_metadata(anything, exclamation=True):\n",
    "    if exclamation == True:\n",
    "        combined = 'hello ' + anything + '!'\n",
    "    else:\n",
    "        combined = 'hello' + anything\n",
    "    \n",
    "    print(combined)\n",
    "    n_letters_input = len(anything) # what does this do?\n",
    "    n_letters_total = len(combined)\n",
    "    \n",
    "    return_dict = dict( # what does this do? How does it compare to {}?\n",
    "        text_input=anything,\n",
    "        is_exclamation=exclamation,\n",
    "        printed=combined,\n",
    "        input_length=n_letters_input,\n",
    "        total_length=n_letters_total\n",
    "    )\n",
    "    \n",
    "    return return_dict"
   ]
  },
  {
   "cell_type": "code",
   "execution_count": 33,
   "id": "eb5fb8d2",
   "metadata": {},
   "outputs": [
    {
     "name": "stdout",
     "output_type": "stream",
     "text": [
      "hello world!\n",
      "{'text_input': 'world', 'is_exclamation': True, 'printed': 'hello world!', 'input_length': 5, 'total_length': 12}\n"
     ]
    }
   ],
   "source": [
    "returned = hello_metadata('world')\n",
    "print(returned)"
   ]
  },
  {
   "cell_type": "markdown",
   "id": "2e9547ad",
   "metadata": {
    "slideshow": {
     "slide_type": "slide"
    }
   },
   "source": [
    "# Test\n",
    "- [ ] build a function with the following specification:\n",
    "    - input is a filename to a .csv file\n",
    "    - the function loads the file into a DF\n",
    "    - the function counts the length of every column name\n",
    "        - [TIP] you can get a list of column names by calling DF.columns\n",
    "    - the function outputs a list of tuples that contain the column name and the length of the name\n",
    "        - [TIP] the .append() option for lists schould help you with this\n",
    "\n",
    "- [ ] OPT: output the DF along the list of tuples\n",
    "- [ ] OPT: instead of the list of tuples, try outputting a dictionary or anothe DF"
   ]
  }
 ],
 "metadata": {
  "celltoolbar": "Slideshow",
  "kernelspec": {
   "display_name": "Python 3 (ipykernel)",
   "language": "python",
   "name": "python3"
  },
  "language_info": {
   "codemirror_mode": {
    "name": "ipython",
    "version": 3
   },
   "file_extension": ".py",
   "mimetype": "text/x-python",
   "name": "python",
   "nbconvert_exporter": "python",
   "pygments_lexer": "ipython3",
   "version": "3.9.15"
  }
 },
 "nbformat": 4,
 "nbformat_minor": 5
}
