{
 "cells": [
  {
   "cell_type": "markdown",
   "id": "aff9972a",
   "metadata": {
    "slideshow": {
     "slide_type": "slide"
    }
   },
   "source": [
    "# Natural Language Processing - NLP\n",
    "- text as data\n",
    "- cleaning\n",
    "- basic summaries\n",
    "- modelling text"
   ]
  },
  {
   "cell_type": "markdown",
   "id": "16e68f47",
   "metadata": {
    "slideshow": {
     "slide_type": "slide"
    }
   },
   "source": [
    "#### basics of text manipulation\n",
    "- transforming corpora, documents, sentences, words\n",
    "    - what part of the data do we want to keep?\n",
    "    - what part doe we **not** want to keep?"
   ]
  },
  {
   "cell_type": "code",
   "execution_count": 1,
   "id": "7b55eab7",
   "metadata": {
    "slideshow": {
     "slide_type": "subslide"
    }
   },
   "outputs": [],
   "source": [
    "# forms of text data:\n",
    "sentence = 'This is a sentence.'\n",
    "sentence_2 = ['Is', 'this', 'a', 'sentence', '?']\n",
    "word = 'word'\n",
    "document = [\n",
    "    'This docuemnt consists of multiple sentences.',\n",
    "    'This is one of them.',\n",
    "    'May this be another sentence?',\n",
    "    'There are too many sentences in this docuement!'\n",
    "]\n",
    "document_2 = \"\"\"\n",
    "    This document consists of multiple sentences.\n",
    "    This is one of them.\n",
    "    May this be another sentence?\n",
    "    There are too many sentences in this docuement!\"\"\"\n",
    "corpus = [document, sentence, document_2, word]"
   ]
  },
  {
   "cell_type": "markdown",
   "id": "60ac82ec",
   "metadata": {},
   "source": [
    "*It depends on what we want to do with it!*"
   ]
  },
  {
   "cell_type": "markdown",
   "id": "afa6a403",
   "metadata": {
    "slideshow": {
     "slide_type": "slide"
    }
   },
   "source": [
    "## The \"Rotten Tomatoes\" dataset\n",
    "- find the dataset [here](https://www.kaggle.com/datasets/stefanoleone992/rotten-tomatoes-movies-and-critic-reviews-dataset?resource=download) (requires a kaggle account)\n",
    "- save it in the \"css_intro/local\" folder\n",
    "- contains review data on a set of movies "
   ]
  },
  {
   "cell_type": "code",
   "execution_count": 2,
   "id": "9872773f",
   "metadata": {},
   "outputs": [],
   "source": [
    "import pandas as pd"
   ]
  },
  {
   "cell_type": "code",
   "execution_count": 3,
   "id": "089d06f1",
   "metadata": {},
   "outputs": [],
   "source": [
    "reviews = pd.read_csv('../local/rotten_tomatoes_critic_reviews.csv')\n",
    "movies = pd.read_csv('../local/rotten_tomatoes_movies.csv')"
   ]
  },
  {
   "cell_type": "markdown",
   "id": "7ccf7135",
   "metadata": {},
   "source": [
    "- [ ] look at the dataset contents, what could be interesting?"
   ]
  },
  {
   "cell_type": "code",
   "execution_count": 4,
   "id": "2440cb74",
   "metadata": {
    "slideshow": {
     "slide_type": "subslide"
    }
   },
   "outputs": [
    {
     "data": {
      "text/html": [
       "<div>\n",
       "<style scoped>\n",
       "    .dataframe tbody tr th:only-of-type {\n",
       "        vertical-align: middle;\n",
       "    }\n",
       "\n",
       "    .dataframe tbody tr th {\n",
       "        vertical-align: top;\n",
       "    }\n",
       "\n",
       "    .dataframe thead th {\n",
       "        text-align: right;\n",
       "    }\n",
       "</style>\n",
       "<table border=\"1\" class=\"dataframe\">\n",
       "  <thead>\n",
       "    <tr style=\"text-align: right;\">\n",
       "      <th></th>\n",
       "      <th>rotten_tomatoes_link</th>\n",
       "      <th>critic_name</th>\n",
       "      <th>top_critic</th>\n",
       "      <th>publisher_name</th>\n",
       "      <th>review_type</th>\n",
       "      <th>review_score</th>\n",
       "      <th>review_date</th>\n",
       "      <th>review_content</th>\n",
       "    </tr>\n",
       "  </thead>\n",
       "  <tbody>\n",
       "    <tr>\n",
       "      <th>0</th>\n",
       "      <td>m/0814255</td>\n",
       "      <td>Andrew L. Urban</td>\n",
       "      <td>False</td>\n",
       "      <td>Urban Cinefile</td>\n",
       "      <td>Fresh</td>\n",
       "      <td>NaN</td>\n",
       "      <td>2010-02-06</td>\n",
       "      <td>A fantasy adventure that fuses Greek mythology...</td>\n",
       "    </tr>\n",
       "    <tr>\n",
       "      <th>1</th>\n",
       "      <td>m/0814255</td>\n",
       "      <td>Louise Keller</td>\n",
       "      <td>False</td>\n",
       "      <td>Urban Cinefile</td>\n",
       "      <td>Fresh</td>\n",
       "      <td>NaN</td>\n",
       "      <td>2010-02-06</td>\n",
       "      <td>Uma Thurman as Medusa, the gorgon with a coiff...</td>\n",
       "    </tr>\n",
       "  </tbody>\n",
       "</table>\n",
       "</div>"
      ],
      "text/plain": [
       "  rotten_tomatoes_link      critic_name  top_critic  publisher_name  \\\n",
       "0            m/0814255  Andrew L. Urban       False  Urban Cinefile   \n",
       "1            m/0814255    Louise Keller       False  Urban Cinefile   \n",
       "\n",
       "  review_type review_score review_date  \\\n",
       "0       Fresh          NaN  2010-02-06   \n",
       "1       Fresh          NaN  2010-02-06   \n",
       "\n",
       "                                      review_content  \n",
       "0  A fantasy adventure that fuses Greek mythology...  \n",
       "1  Uma Thurman as Medusa, the gorgon with a coiff...  "
      ]
     },
     "execution_count": 4,
     "metadata": {},
     "output_type": "execute_result"
    }
   ],
   "source": [
    "reviews.head(2)"
   ]
  },
  {
   "cell_type": "code",
   "execution_count": 5,
   "id": "4af8d12b",
   "metadata": {
    "slideshow": {
     "slide_type": "-"
    }
   },
   "outputs": [
    {
     "data": {
      "text/html": [
       "<div>\n",
       "<style scoped>\n",
       "    .dataframe tbody tr th:only-of-type {\n",
       "        vertical-align: middle;\n",
       "    }\n",
       "\n",
       "    .dataframe tbody tr th {\n",
       "        vertical-align: top;\n",
       "    }\n",
       "\n",
       "    .dataframe thead th {\n",
       "        text-align: right;\n",
       "    }\n",
       "</style>\n",
       "<table border=\"1\" class=\"dataframe\">\n",
       "  <thead>\n",
       "    <tr style=\"text-align: right;\">\n",
       "      <th></th>\n",
       "      <th>rotten_tomatoes_link</th>\n",
       "      <th>movie_title</th>\n",
       "      <th>movie_info</th>\n",
       "      <th>critics_consensus</th>\n",
       "      <th>content_rating</th>\n",
       "      <th>genres</th>\n",
       "      <th>directors</th>\n",
       "      <th>authors</th>\n",
       "      <th>actors</th>\n",
       "      <th>original_release_date</th>\n",
       "      <th>...</th>\n",
       "      <th>production_company</th>\n",
       "      <th>tomatometer_status</th>\n",
       "      <th>tomatometer_rating</th>\n",
       "      <th>tomatometer_count</th>\n",
       "      <th>audience_status</th>\n",
       "      <th>audience_rating</th>\n",
       "      <th>audience_count</th>\n",
       "      <th>tomatometer_top_critics_count</th>\n",
       "      <th>tomatometer_fresh_critics_count</th>\n",
       "      <th>tomatometer_rotten_critics_count</th>\n",
       "    </tr>\n",
       "  </thead>\n",
       "  <tbody>\n",
       "    <tr>\n",
       "      <th>0</th>\n",
       "      <td>m/0814255</td>\n",
       "      <td>Percy Jackson &amp; the Olympians: The Lightning T...</td>\n",
       "      <td>Always trouble-prone, the life of teenager Per...</td>\n",
       "      <td>Though it may seem like just another Harry Pot...</td>\n",
       "      <td>PG</td>\n",
       "      <td>Action &amp; Adventure, Comedy, Drama, Science Fic...</td>\n",
       "      <td>Chris Columbus</td>\n",
       "      <td>Craig Titley, Chris Columbus, Rick Riordan</td>\n",
       "      <td>Logan Lerman, Brandon T. Jackson, Alexandra Da...</td>\n",
       "      <td>2010-02-12</td>\n",
       "      <td>...</td>\n",
       "      <td>20th Century Fox</td>\n",
       "      <td>Rotten</td>\n",
       "      <td>49.0</td>\n",
       "      <td>149.0</td>\n",
       "      <td>Spilled</td>\n",
       "      <td>53.0</td>\n",
       "      <td>254421.0</td>\n",
       "      <td>43</td>\n",
       "      <td>73</td>\n",
       "      <td>76</td>\n",
       "    </tr>\n",
       "    <tr>\n",
       "      <th>1</th>\n",
       "      <td>m/0878835</td>\n",
       "      <td>Please Give</td>\n",
       "      <td>Kate (Catherine Keener) and her husband Alex (...</td>\n",
       "      <td>Nicole Holofcener's newest might seem slight i...</td>\n",
       "      <td>R</td>\n",
       "      <td>Comedy</td>\n",
       "      <td>Nicole Holofcener</td>\n",
       "      <td>Nicole Holofcener</td>\n",
       "      <td>Catherine Keener, Amanda Peet, Oliver Platt, R...</td>\n",
       "      <td>2010-04-30</td>\n",
       "      <td>...</td>\n",
       "      <td>Sony Pictures Classics</td>\n",
       "      <td>Certified-Fresh</td>\n",
       "      <td>87.0</td>\n",
       "      <td>142.0</td>\n",
       "      <td>Upright</td>\n",
       "      <td>64.0</td>\n",
       "      <td>11574.0</td>\n",
       "      <td>44</td>\n",
       "      <td>123</td>\n",
       "      <td>19</td>\n",
       "    </tr>\n",
       "  </tbody>\n",
       "</table>\n",
       "<p>2 rows × 22 columns</p>\n",
       "</div>"
      ],
      "text/plain": [
       "  rotten_tomatoes_link                                        movie_title  \\\n",
       "0            m/0814255  Percy Jackson & the Olympians: The Lightning T...   \n",
       "1            m/0878835                                        Please Give   \n",
       "\n",
       "                                          movie_info  \\\n",
       "0  Always trouble-prone, the life of teenager Per...   \n",
       "1  Kate (Catherine Keener) and her husband Alex (...   \n",
       "\n",
       "                                   critics_consensus content_rating  \\\n",
       "0  Though it may seem like just another Harry Pot...             PG   \n",
       "1  Nicole Holofcener's newest might seem slight i...              R   \n",
       "\n",
       "                                              genres          directors  \\\n",
       "0  Action & Adventure, Comedy, Drama, Science Fic...     Chris Columbus   \n",
       "1                                             Comedy  Nicole Holofcener   \n",
       "\n",
       "                                      authors  \\\n",
       "0  Craig Titley, Chris Columbus, Rick Riordan   \n",
       "1                           Nicole Holofcener   \n",
       "\n",
       "                                              actors original_release_date  \\\n",
       "0  Logan Lerman, Brandon T. Jackson, Alexandra Da...            2010-02-12   \n",
       "1  Catherine Keener, Amanda Peet, Oliver Platt, R...            2010-04-30   \n",
       "\n",
       "   ...      production_company  tomatometer_status tomatometer_rating  \\\n",
       "0  ...        20th Century Fox              Rotten               49.0   \n",
       "1  ...  Sony Pictures Classics     Certified-Fresh               87.0   \n",
       "\n",
       "  tomatometer_count  audience_status  audience_rating audience_count  \\\n",
       "0             149.0          Spilled             53.0       254421.0   \n",
       "1             142.0          Upright             64.0        11574.0   \n",
       "\n",
       "   tomatometer_top_critics_count  tomatometer_fresh_critics_count  \\\n",
       "0                             43                               73   \n",
       "1                             44                              123   \n",
       "\n",
       "   tomatometer_rotten_critics_count  \n",
       "0                                76  \n",
       "1                                19  \n",
       "\n",
       "[2 rows x 22 columns]"
      ]
     },
     "execution_count": 5,
     "metadata": {},
     "output_type": "execute_result"
    }
   ],
   "source": [
    "movies.head(2)"
   ]
  },
  {
   "cell_type": "code",
   "execution_count": 6,
   "id": "5760fc7f",
   "metadata": {},
   "outputs": [],
   "source": [
    "merged_df = pd.merge(movies, reviews, how='left', on='rotten_tomatoes_link')"
   ]
  },
  {
   "cell_type": "code",
   "execution_count": 7,
   "id": "747d9e75",
   "metadata": {},
   "outputs": [],
   "source": [
    "merged_short = merged_df[merged_df['review_content'].isnull()==False]"
   ]
  },
  {
   "cell_type": "markdown",
   "id": "3be4daea-8287-40c3-a35b-56e393ea2890",
   "metadata": {},
   "source": [
    "## Cleaning the textdata\n",
    "- we are not interested in extremely common words like conjunctions, articles, etc.\n",
    "- we want to combine words\n",
    "    - that have the same meaning but are e.g. conjugated (\"ran\" and \"running\")\n",
    "    - and words with differing capitalization\n",
    "- we want to remove urls and maybe hashtags, @-mentions, numbers etc. but almost definately punctuation"
   ]
  },
  {
   "cell_type": "code",
   "execution_count": 41,
   "id": "3253ded1-33a6-444c-bff1-a01943d5a1ec",
   "metadata": {},
   "outputs": [],
   "source": [
    "testsentence = 'This is a test sentence, containing punctuations (, ; : # @), CAPITALIZATION and conjugated words like running, ran, is, be and also a url - www.thisisaurl.com'"
   ]
  },
  {
   "cell_type": "code",
   "execution_count": 42,
   "id": "9298b44b-1f7a-462d-ba29-f6729af9eb1e",
   "metadata": {},
   "outputs": [
    {
     "name": "stdout",
     "output_type": "stream",
     "text": [
      "this is a test sentence, containing punctuations (, ; : # @), capitalization and conjugated words like running, ran, is, be and also a url - www.thisisaurl.com\n"
     ]
    }
   ],
   "source": [
    "# lower all words\n",
    "lower = testsentence.lower()\n",
    "print(lower)"
   ]
  },
  {
   "cell_type": "code",
   "execution_count": 43,
   "id": "df694ccf-dd76-463a-9496-4a758d383467",
   "metadata": {},
   "outputs": [
    {
     "name": "stdout",
     "output_type": "stream",
     "text": [
      "['this', 'is', 'a', 'test', 'sentence,', 'containing', 'punctuations', '(,', ';', ':', '#', '@),', 'capitalization', 'and', 'conjugated', 'words', 'like', 'running,', 'ran,', 'is,', 'be', 'and', 'also', 'a', 'url', '-', 'www.thisisaurl.com']\n"
     ]
    }
   ],
   "source": [
    "# remove urls\n",
    "losplit = lower.split(' ')\n",
    "print(losplit)"
   ]
  },
  {
   "cell_type": "code",
   "execution_count": 44,
   "id": "85686685-231a-4c47-8b82-98653402c4b2",
   "metadata": {},
   "outputs": [
    {
     "name": "stdout",
     "output_type": "stream",
     "text": [
      "['this', 'is', 'a', 'test', 'sentence,', 'containing', 'punctuations', '(,', ';', ':', '#', '@),', 'capitalization', 'and', 'conjugated', 'words', 'like', 'running,', 'ran,', 'is,', 'be', 'and', 'also', 'a', 'url', '-']\n"
     ]
    }
   ],
   "source": [
    "nourl = [word for word in losplit if 'www' not in word]\n",
    "print(nourl)"
   ]
  },
  {
   "cell_type": "code",
   "execution_count": 45,
   "id": "448b6ca2-f86c-4fe1-8ae1-cb4a794e400a",
   "metadata": {},
   "outputs": [
    {
     "name": "stdout",
     "output_type": "stream",
     "text": [
      "this is a test sentence, containing punctuations (, ; : # @), capitalization and conjugated words like running, ran, is, be and also a url -\n"
     ]
    }
   ],
   "source": [
    "nourl = ' '.join(nourl)\n",
    "print(nourl)"
   ]
  },
  {
   "cell_type": "code",
   "execution_count": 56,
   "id": "d2252032-e7f9-475c-8875-fe105d3de236",
   "metadata": {},
   "outputs": [],
   "source": [
    "# remove punctuation\n",
    "import string\n",
    "nopunct = nourl.translate(str.maketrans('', '', string.punctuation))\n",
    "print(nopunct)"
   ]
  },
  {
   "cell_type": "code",
   "execution_count": 57,
   "id": "4c99e4a8-735f-4477-9771-5daab0e3fa09",
   "metadata": {},
   "outputs": [
    {
     "name": "stdout",
     "output_type": "stream",
     "text": [
      "this is a test sentence containing punctuations capitalization and conjugated words like running ran is be and also a url\n"
     ]
    }
   ],
   "source": [
    "nopunct = ' '.join([part for part in nopunct.split(' ') if len(part) > 0])\n",
    "print(nopunct)"
   ]
  },
  {
   "cell_type": "code",
   "execution_count": 58,
   "id": "34e2090d-2b31-4e6b-b784-125add05668e",
   "metadata": {},
   "outputs": [],
   "source": [
    "import spacy"
   ]
  }
 ],
 "metadata": {
  "celltoolbar": "Slideshow",
  "kernelspec": {
   "display_name": "Python 3 (ipykernel)",
   "language": "python",
   "name": "python3"
  },
  "language_info": {
   "codemirror_mode": {
    "name": "ipython",
    "version": 3
   },
   "file_extension": ".py",
   "mimetype": "text/x-python",
   "name": "python",
   "nbconvert_exporter": "python",
   "pygments_lexer": "ipython3",
   "version": "3.9.15"
  }
 },
 "nbformat": 4,
 "nbformat_minor": 5
}
